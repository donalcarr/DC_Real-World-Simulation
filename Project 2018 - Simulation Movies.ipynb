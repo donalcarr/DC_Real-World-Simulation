{
 "cells": [
  {
   "cell_type": "markdown",
   "metadata": {},
   "source": [
    " # IMDb Movie Rankings"
   ]
  },
  {
   "cell_type": "markdown",
   "metadata": {},
   "source": [
    "## Introduction"
   ]
  },
  {
   "cell_type": "markdown",
   "metadata": {},
   "source": [
    "IMDb is the world's most popular and authoritative source for movie, TV and celebrity content. \n",
    "It offers a searchable database of more than 250 million data items including more than 4 million movies, TV and entertainment programs and 8 million cast and crew members. \n",
    "IMDb launched online in 1990 and has been a subsidiary of Amazon.com since 1998.(IMDB)"
   ]
  },
  {
   "cell_type": "markdown",
   "metadata": {},
   "source": [
    "IMDb webite is commonly used for reviewing movies and the following definitions are used by IMDb to rate movies:\n",
    "\n",
    "    1. Rating: IMDb registered users can cast a vote (from 1 to 10) on every released title in the database. \n",
    "               Individual votes are then aggregated and summarized as a single IMDb rating.\n",
    "    2. Metascore: IMDB collects reviews from various critics, assigns a score to there reviews and then applies a\n",
    "                  weighted average based on the quality and stature of their reviews"
   ]
  },
  {
   "cell_type": "markdown",
   "metadata": {},
   "source": [
    "It is also possible to collect data points from the IMDb database on the gross revenue made made by movies, the genre, actors, directors as well as cat members involved with the movie."
   ]
  },
  {
   "cell_type": "markdown",
   "metadata": {},
   "source": [
    "Due to the availability of data it is become possible for researchers to investigate and analyse the relationships\n",
    "between different variables associated with movie performance. As one can imagine it is important for movie studios and investors to investigate these relationships so that they can make predictions on the commercial success of any new movie."
   ]
  },
  {
   "cell_type": "markdown",
   "metadata": {},
   "source": [
    "For this project I will investigate a number of different variables researchers believe contribute to movie performance, including gross revenue for historical movies. By comparing ratings, metascores, gross revenue and votes it may be\n",
    "possible to see a relationship thus seeing if review from critcs and movie watchers contribute to the total revenue of a movie."
   ]
  },
  {
   "cell_type": "markdown",
   "metadata": {},
   "source": [
    "I will outline inital research in the area around the determinants of movie performance, derive descriptive statistics from an\n",
    "IMDb dataset and use these statistics to build a simulated dataset using the variables to follow."
   ]
  },
  {
   "cell_type": "markdown",
   "metadata": {},
   "source": [
    "## Previous research review"
   ]
  },
  {
   "cell_type": "markdown",
   "metadata": {},
   "source": [
    "According to (Pangarker and Smith) from as early as the mid-1960’s analysts, studios, and investors alike have been \n",
    "researching which variables contribute to the commercial success of films. In their reseach, they looked at at various\n",
    "dependant variables and their contribution to global box office revenue. They found that the most significant contributor to\n",
    "box office revenues was the production cost i.e. the bigger the budget, the more succesful the movie\n",
    "\n",
    "Research carried out by Litman (1983) viewed ratings, production budget, cast and director as the most important determinants \n",
    "of movie performance. Litman went on the model the relationships between revenue (dependant variable) and production cost, \n",
    "star rating, and genre (independant variables) using a multiple regression model. \n",
    "\n",
    "Liman found that production costs were positively correlated with revenue and critics star ratings was also significant. \n",
    "\n",
    "De Vany and Walls (1999) found that it was very difficult to find relationships between variables and that a success of a movie\n",
    "did not follow the normal distribution. It was more skewed to some very dominant movies whos's success was extremely difficult to\n",
    "predict. \n",
    "\n",
    "Reinstein and Snyder (2000) looked at the power of critics reviews and movie performance and found that only certain critic reviews \n",
    "would influence the performance of a movie. \n",
    "\n",
    "Research carried out by Ramos (2015) on the data contained in the IMDb database found that production budgets can ensure\n",
    "better than average box office returns but was not a certainty to deliver better than average returns. In this research Netflix\n",
    "data was used as a comparison to eliminate bias possibly contained in the IMDb due to 'voter stuffing' i.e. trying to push up a movies rating by asking people to vote.  \n",
    "\n",
    "Terry (2015) employed correlation models to show relationships between themed horror movies and box office revenue. Terry found\n",
    "that certain types of themes such as slasher movies were more positibely correlated with box office performance. \n",
    "\n",
    "According to (Metaccritic.com), Metascores can contribute to the performance of a movie in the long run. Even if a film earns significant revenue in the opening weekend, low metascores over the preceeding weeks will lead to lower box office revenues."
   ]
  },
  {
   "cell_type": "markdown",
   "metadata": {},
   "source": [
    "## Project Methodology"
   ]
  },
  {
   "cell_type": "markdown",
   "metadata": {},
   "source": [
    "For this project I will use a dataset from Kaggle.com that was originally imported from the IMDb database. It coontains data on the most populare movies over the last 10 years. The dataset contains multiple variables but I will reduce it to four, based on previous research on the derminants of movie success.\n",
    "\n",
    "To create a simulated dataset I will first get the descriptive statistics on the dataset imported from Kaggle and then use those \n",
    "statistics in my simulation model to mirror the properties of the original dataset. \n",
    "\n",
    "From the four variables there will be one **dependent** non-negative real number variable (Revenue_Millions) and three **independent** non-negative real number variables (Rating, Votes and Metascore). \n",
    "\n",
    "After reviewing the previous literature on the topic, I wanted to see if one could predict the success of a movie in revenue\n",
    "terms based on critic ratings everday reviews. The research is not definitive in that these variables effect movie performance\n",
    "but there does seem to be some correlation between total revenue and critical reviews."
   ]
  },
  {
   "cell_type": "markdown",
   "metadata": {},
   "source": [
    "## Data and Modelling"
   ]
  },
  {
   "cell_type": "code",
   "execution_count": 1,
   "metadata": {},
   "outputs": [],
   "source": [
    "%matplotlib inline\n",
    "# import pandas library; pandas is a library used for data analysis and creating data structures in Python\n",
    "import pandas as pa\n",
    "# import numpy library; numpy is a statistical library used for data analysis using Python\n",
    "import numpy as np\n",
    "# Matplotlib is a Python 2D plotting library\n",
    "import matplotlib.pyplot as plt\n",
    "# Seaborn is a Python data visualization library based on matplotlib. \n",
    "import seaborn as sns\n",
    "# Scipy is a package for mathematics, science, and engineering and libraries\n",
    "import scipy.stats as ss"
   ]
  },
  {
   "cell_type": "code",
   "execution_count": 2,
   "metadata": {},
   "outputs": [],
   "source": [
    "# import csv from github created repository / dataset originally imported from kaggle.com\n",
    "Movie = pa.read_csv(\"https://raw.githubusercontent.com/donalcarr85/Datasets/master/IMDB-Movie-Data.csv\",nrows=1000)\n",
    "Movie;"
   ]
  },
  {
   "cell_type": "code",
   "execution_count": 3,
   "metadata": {},
   "outputs": [],
   "source": [
    "# rename Revenue column\n",
    "Movie = Movie.rename(columns={'Revenue (Millions)':'Revenue_Millions'})\n",
    "moviedf = Movie.iloc[:,[8,9,10,11]]\n",
    "moviedf;"
   ]
  },
  {
   "cell_type": "code",
   "execution_count": 4,
   "metadata": {},
   "outputs": [
    {
     "data": {
      "text/html": [
       "<div>\n",
       "<style scoped>\n",
       "    .dataframe tbody tr th:only-of-type {\n",
       "        vertical-align: middle;\n",
       "    }\n",
       "\n",
       "    .dataframe tbody tr th {\n",
       "        vertical-align: top;\n",
       "    }\n",
       "\n",
       "    .dataframe thead th {\n",
       "        text-align: right;\n",
       "    }\n",
       "</style>\n",
       "<table border=\"1\" class=\"dataframe\">\n",
       "  <thead>\n",
       "    <tr style=\"text-align: right;\">\n",
       "      <th></th>\n",
       "      <th>Rating</th>\n",
       "      <th>Votes</th>\n",
       "      <th>Revenue_Millions</th>\n",
       "      <th>Metascore</th>\n",
       "    </tr>\n",
       "  </thead>\n",
       "  <tbody>\n",
       "    <tr>\n",
       "      <th>count</th>\n",
       "      <td>696</td>\n",
       "      <td>696</td>\n",
       "      <td>696</td>\n",
       "      <td>696</td>\n",
       "    </tr>\n",
       "    <tr>\n",
       "      <th>mean</th>\n",
       "      <td>7</td>\n",
       "      <td>223740</td>\n",
       "      <td>102</td>\n",
       "      <td>59</td>\n",
       "    </tr>\n",
       "    <tr>\n",
       "      <th>std</th>\n",
       "      <td>1</td>\n",
       "      <td>197462</td>\n",
       "      <td>107</td>\n",
       "      <td>17</td>\n",
       "    </tr>\n",
       "    <tr>\n",
       "      <th>min</th>\n",
       "      <td>2</td>\n",
       "      <td>277</td>\n",
       "      <td>5</td>\n",
       "      <td>11</td>\n",
       "    </tr>\n",
       "    <tr>\n",
       "      <th>25%</th>\n",
       "      <td>6</td>\n",
       "      <td>89834</td>\n",
       "      <td>32</td>\n",
       "      <td>47</td>\n",
       "    </tr>\n",
       "    <tr>\n",
       "      <th>50%</th>\n",
       "      <td>7</td>\n",
       "      <td>167694</td>\n",
       "      <td>64</td>\n",
       "      <td>59</td>\n",
       "    </tr>\n",
       "    <tr>\n",
       "      <th>75%</th>\n",
       "      <td>8</td>\n",
       "      <td>305873</td>\n",
       "      <td>134</td>\n",
       "      <td>72</td>\n",
       "    </tr>\n",
       "    <tr>\n",
       "      <th>max</th>\n",
       "      <td>9</td>\n",
       "      <td>1791916</td>\n",
       "      <td>937</td>\n",
       "      <td>100</td>\n",
       "    </tr>\n",
       "  </tbody>\n",
       "</table>\n",
       "</div>"
      ],
      "text/plain": [
       "       Rating   Votes  Revenue_Millions  Metascore\n",
       "count     696     696               696        696\n",
       "mean        7  223740               102         59\n",
       "std         1  197462               107         17\n",
       "min         2     277                 5         11\n",
       "25%         6   89834                32         47\n",
       "50%         7  167694                64         59\n",
       "75%         8  305873               134         72\n",
       "max         9 1791916               937        100"
      ]
     },
     "execution_count": 4,
     "metadata": {},
     "output_type": "execute_result"
    }
   ],
   "source": [
    "pa.set_option('display.float_format', lambda x: '%.0f' % x)\n",
    "moviedf.describe()"
   ]
  },
  {
   "cell_type": "code",
   "execution_count": 63,
   "metadata": {},
   "outputs": [
    {
     "data": {
      "image/png": "[encoded data removed]",
      "text/plain": [
       "<Figure size 720x720 with 20 Axes>"
      ]
     },
     "metadata": {},
     "output_type": "display_data"
    }
   ],
   "source": [
    "np.warnings.filterwarnings('ignore')\n",
    "g = sns.pairplot(moviedf)\n",
    "    "
   ]
  },
  {
   "cell_type": "markdown",
   "metadata": {},
   "source": [
    "## Variable Distributions"
   ]
  },
  {
   "cell_type": "markdown",
   "metadata": {},
   "source": [
    "### Rating"
   ]
  },
  {
   "cell_type": "code",
   "execution_count": 45,
   "metadata": {},
   "outputs": [
    {
     "data": {
      "text/plain": [
       "<matplotlib.axes._subplots.AxesSubplot at 0x1de59912e10>"
      ]
     },
     "execution_count": 45,
     "metadata": {},
     "output_type": "execute_result"
    },
    {
     "data": {
      "image/png": "[encoded data removed]",
      "text/plain": [
       "<Figure size 432x288 with 1 Axes>"
      ]
     },
     "metadata": {},
     "output_type": "display_data"
    }
   ],
   "source": [
    "r = np.random.normal(7, 1, 100)\n",
    "sns.distplot(r,hist_kws={\"rwidth\" :.95},kde_kws={\"color\": \"k\", \"lw\": 3,})"
   ]
  },
  {
   "cell_type": "markdown",
   "metadata": {},
   "source": [
    "The rating given to movies is primarily between 4 and 9 with the average rating just over 7. "
   ]
  },
  {
   "cell_type": "markdown",
   "metadata": {},
   "source": [
    "### Votes"
   ]
  },
  {
   "cell_type": "code",
   "execution_count": 57,
   "metadata": {},
   "outputs": [
    {
     "data": {
      "text/plain": [
       "[<matplotlib.lines.Line2D at 0x1de5a51eb00>]"
      ]
     },
     "execution_count": 57,
     "metadata": {},
     "output_type": "execute_result"
    },
    {
     "data": {
      "image/png": "[encoded data removed]",
      "text/plain": [
       "<Figure size 432x288 with 1 Axes>"
      ]
     },
     "metadata": {},
     "output_type": "display_data"
    }
   ],
   "source": [
    "##https://docs.scipy.org/doc/scipy/reference/generated/scipy.stats.lognorm.html\n",
    "from scipy.stats import lognorm\n",
    "stddevV = 223740\n",
    "meanV = 197462\n",
    "dist2=lognorm([stddevV],loc=meanV)\n",
    "\n",
    "import pylab as pl\n",
    "v=np.linspace(277,1791916,100)\n",
    "pl.plot(v,dist2.pdf(v))"
   ]
  },
  {
   "cell_type": "code",
   "execution_count": 8,
   "metadata": {},
   "outputs": [],
   "source": [
    "q1v = moviedf['Votes'].quantile(.25)\n",
    "q3v = moviedf['Votes'].quantile(.75)\n",
    "maskv = moviedf['Votes'].between(q1v, q3v, inclusive=True)\n",
    "iqrv = moviedf.loc[maskv, 'Votes']"
   ]
  },
  {
   "cell_type": "code",
   "execution_count": 9,
   "metadata": {},
   "outputs": [
    {
     "data": {
      "text/plain": [
       "<bound method Series.round of count      348\n",
       "mean    178183\n",
       "std      62252\n",
       "min      89849\n",
       "25%     122675\n",
       "50%     167694\n",
       "75%     225700\n",
       "max     304837\n",
       "Name: Votes, dtype: float64>"
      ]
     },
     "execution_count": 9,
     "metadata": {},
     "output_type": "execute_result"
    }
   ],
   "source": [
    "iqrv.describe().round"
   ]
  },
  {
   "cell_type": "code",
   "execution_count": 35,
   "metadata": {},
   "outputs": [
    {
     "data": {
      "text/plain": [
       "<matplotlib.axes._subplots.AxesSubplot at 0x1de58568908>"
      ]
     },
     "execution_count": 35,
     "metadata": {},
     "output_type": "execute_result"
    },
    {
     "data": {
      "image/png": "[encoded data removed]",
      "text/plain": [
       "<Figure size 432x288 with 1 Axes>"
      ]
     },
     "metadata": {},
     "output_type": "display_data"
    }
   ],
   "source": [
    "v = np.random.normal(178183,62252, 100)\n",
    "sns.distplot(v,hist_kws={\"rwidth\" :.95},kde_kws={\"color\": \"k\", \"lw\": 3,})"
   ]
  },
  {
   "cell_type": "markdown",
   "metadata": {},
   "source": [
    "### Revenue"
   ]
  },
  {
   "cell_type": "code",
   "execution_count": 50,
   "metadata": {},
   "outputs": [
    {
     "data": {
      "text/plain": [
       "[<matplotlib.lines.Line2D at 0x1de5a26fc88>]"
      ]
     },
     "execution_count": 50,
     "metadata": {},
     "output_type": "execute_result"
    },
    {
     "data": {
      "image/png": "[encoded data removed]",
      "text/plain": [
       "<Figure size 432x288 with 1 Axes>"
      ]
     },
     "metadata": {},
     "output_type": "display_data"
    }
   ],
   "source": [
    "stddev = 102\n",
    "mean = 107\n",
    "dist=lognorm([stddev],loc=mean)\n",
    "\n",
    "import pylab as pl\n",
    "revr=np.linspace(5,937,100)\n",
    "pl.plot(revr,dist.pdf(x))"
   ]
  },
  {
   "cell_type": "code",
   "execution_count": 12,
   "metadata": {},
   "outputs": [
    {
     "data": {
      "text/plain": [
       "<matplotlib.axes._subplots.AxesSubplot at 0x1de56c00278>"
      ]
     },
     "execution_count": 12,
     "metadata": {},
     "output_type": "execute_result"
    },
    {
     "data": {
      "image/png": "[encoded data removed]",
      "text/plain": [
       "<Figure size 432x288 with 1 Axes>"
      ]
     },
     "metadata": {},
     "output_type": "display_data"
    }
   ],
   "source": [
    "sns.boxplot(y=\"Revenue_Millions\", data=moviedf,color=\"skyblue\")"
   ]
  },
  {
   "cell_type": "code",
   "execution_count": 13,
   "metadata": {},
   "outputs": [],
   "source": [
    "## https://stackoverflow.com/questions/34782063/how-to-use-pandas-filter-with-iqr ##\n",
    "q1 = moviedf['Revenue_Millions'].quantile(.25)\n",
    "q3 = moviedf['Revenue_Millions'].quantile(.75)\n",
    "mask = moviedf['Revenue_Millions'].between(q1, q3, inclusive=True)\n",
    "iqr = moviedf.loc[mask, 'Revenue_Millions']"
   ]
  },
  {
   "cell_type": "code",
   "execution_count": 14,
   "metadata": {},
   "outputs": [
    {
     "data": {
      "text/plain": [
       "count   348\n",
       "mean     71\n",
       "std      29\n",
       "min      32\n",
       "25%      46\n",
       "50%      64\n",
       "75%      91\n",
       "max     134\n",
       "Name: Revenue_Millions, dtype: float64"
      ]
     },
     "execution_count": 14,
     "metadata": {},
     "output_type": "execute_result"
    }
   ],
   "source": [
    "iqr.describe().round()"
   ]
  },
  {
   "cell_type": "code",
   "execution_count": 33,
   "metadata": {},
   "outputs": [
    {
     "data": {
      "text/plain": [
       "<matplotlib.axes._subplots.AxesSubplot at 0x1de5849dac8>"
      ]
     },
     "execution_count": 33,
     "metadata": {},
     "output_type": "execute_result"
    },
    {
     "data": {
      "image/png": "[encoded data removed]",
      "text/plain": [
       "<Figure size 432x288 with 1 Axes>"
      ]
     },
     "metadata": {},
     "output_type": "display_data"
    }
   ],
   "source": [
    "rev = np.random.normal(71,29, 100)\n",
    "sns.distplot(rev,hist_kws={\"rwidth\" :.95},kde_kws={\"color\": \"k\", \"lw\": 3,})"
   ]
  },
  {
   "cell_type": "markdown",
   "metadata": {},
   "source": [
    "### Metascore"
   ]
  },
  {
   "cell_type": "code",
   "execution_count": 34,
   "metadata": {},
   "outputs": [
    {
     "data": {
      "text/plain": [
       "<matplotlib.axes._subplots.AxesSubplot at 0x1de58505550>"
      ]
     },
     "execution_count": 34,
     "metadata": {},
     "output_type": "execute_result"
    },
    {
     "data": {
      "image/png": "[encoded data removed]",
      "text/plain": [
       "<Figure size 432x288 with 1 Axes>"
      ]
     },
     "metadata": {},
     "output_type": "display_data"
    }
   ],
   "source": [
    "m = np.random.normal(59,17, 100)\n",
    "sns.distplot(m,hist_kws={\"rwidth\" :.95},kde_kws={\"color\": \"k\", \"lw\": 3,})"
   ]
  },
  {
   "cell_type": "markdown",
   "metadata": {},
   "source": [
    "## Relationships"
   ]
  },
  {
   "cell_type": "markdown",
   "metadata": {},
   "source": [
    "First I will look at the relationship between revenue generated by a movie and \n",
    "the metascore (weighted average score given to critics reviews) on the IMDb website. "
   ]
  },
  {
   "cell_type": "code",
   "execution_count": null,
   "metadata": {},
   "outputs": [],
   "source": [
    "sns.pairplot(SimData, x_vars=[\"total_bill\", \"size\"], y_vars=[\"\"],\n",
    "             hue=\"smoker\", height=5, aspect=.8, kind=\"reg\");"
   ]
  },
  {
   "cell_type": "markdown",
   "metadata": {},
   "source": [
    "## Create Dataframe using simulated data"
   ]
  },
  {
   "cell_type": "code",
   "execution_count": 58,
   "metadata": {},
   "outputs": [],
   "source": [
    "SimData = pa.DataFrame({\n",
    "           'Rating': r,\n",
    "           'Votes': v,\n",
    "           'Revenue': revr,\n",
    "           'Metascore': m},\n",
    "            columns = ['Rating','Votes','Revenue','Metascore'])"
   ]
  },
  {
   "cell_type": "code",
   "execution_count": 62,
   "metadata": {},
   "outputs": [
    {
     "data": {
      "text/html": [
       "<div>\n",
       "<style scoped>\n",
       "    .dataframe tbody tr th:only-of-type {\n",
       "        vertical-align: middle;\n",
       "    }\n",
       "\n",
       "    .dataframe tbody tr th {\n",
       "        vertical-align: top;\n",
       "    }\n",
       "\n",
       "    .dataframe thead th {\n",
       "        text-align: right;\n",
       "    }\n",
       "</style>\n",
       "<table border=\"1\" class=\"dataframe\">\n",
       "  <thead>\n",
       "    <tr style=\"text-align: right;\">\n",
       "      <th></th>\n",
       "      <th>Rating</th>\n",
       "      <th>Votes</th>\n",
       "      <th>Revenue</th>\n",
       "      <th>Metascore</th>\n",
       "    </tr>\n",
       "  </thead>\n",
       "  <tbody>\n",
       "    <tr>\n",
       "      <th>0</th>\n",
       "      <td>7</td>\n",
       "      <td>277</td>\n",
       "      <td>5</td>\n",
       "      <td>63</td>\n",
       "    </tr>\n",
       "    <tr>\n",
       "      <th>1</th>\n",
       "      <td>8</td>\n",
       "      <td>18374</td>\n",
       "      <td>14</td>\n",
       "      <td>61</td>\n",
       "    </tr>\n",
       "    <tr>\n",
       "      <th>2</th>\n",
       "      <td>6</td>\n",
       "      <td>36472</td>\n",
       "      <td>24</td>\n",
       "      <td>45</td>\n",
       "    </tr>\n",
       "    <tr>\n",
       "      <th>3</th>\n",
       "      <td>8</td>\n",
       "      <td>54569</td>\n",
       "      <td>33</td>\n",
       "      <td>48</td>\n",
       "    </tr>\n",
       "    <tr>\n",
       "      <th>4</th>\n",
       "      <td>7</td>\n",
       "      <td>72666</td>\n",
       "      <td>43</td>\n",
       "      <td>60</td>\n",
       "    </tr>\n",
       "    <tr>\n",
       "      <th>5</th>\n",
       "      <td>7</td>\n",
       "      <td>90764</td>\n",
       "      <td>52</td>\n",
       "      <td>37</td>\n",
       "    </tr>\n",
       "    <tr>\n",
       "      <th>6</th>\n",
       "      <td>7</td>\n",
       "      <td>108861</td>\n",
       "      <td>61</td>\n",
       "      <td>33</td>\n",
       "    </tr>\n",
       "    <tr>\n",
       "      <th>7</th>\n",
       "      <td>7</td>\n",
       "      <td>126959</td>\n",
       "      <td>71</td>\n",
       "      <td>69</td>\n",
       "    </tr>\n",
       "    <tr>\n",
       "      <th>8</th>\n",
       "      <td>7</td>\n",
       "      <td>145056</td>\n",
       "      <td>80</td>\n",
       "      <td>64</td>\n",
       "    </tr>\n",
       "    <tr>\n",
       "      <th>9</th>\n",
       "      <td>8</td>\n",
       "      <td>163153</td>\n",
       "      <td>90</td>\n",
       "      <td>10</td>\n",
       "    </tr>\n",
       "    <tr>\n",
       "      <th>10</th>\n",
       "      <td>6</td>\n",
       "      <td>181251</td>\n",
       "      <td>99</td>\n",
       "      <td>88</td>\n",
       "    </tr>\n",
       "    <tr>\n",
       "      <th>11</th>\n",
       "      <td>5</td>\n",
       "      <td>199348</td>\n",
       "      <td>109</td>\n",
       "      <td>55</td>\n",
       "    </tr>\n",
       "    <tr>\n",
       "      <th>12</th>\n",
       "      <td>8</td>\n",
       "      <td>217445</td>\n",
       "      <td>118</td>\n",
       "      <td>39</td>\n",
       "    </tr>\n",
       "    <tr>\n",
       "      <th>13</th>\n",
       "      <td>8</td>\n",
       "      <td>235543</td>\n",
       "      <td>127</td>\n",
       "      <td>33</td>\n",
       "    </tr>\n",
       "    <tr>\n",
       "      <th>14</th>\n",
       "      <td>8</td>\n",
       "      <td>253640</td>\n",
       "      <td>137</td>\n",
       "      <td>53</td>\n",
       "    </tr>\n",
       "    <tr>\n",
       "      <th>15</th>\n",
       "      <td>4</td>\n",
       "      <td>271737</td>\n",
       "      <td>146</td>\n",
       "      <td>89</td>\n",
       "    </tr>\n",
       "    <tr>\n",
       "      <th>16</th>\n",
       "      <td>7</td>\n",
       "      <td>289835</td>\n",
       "      <td>156</td>\n",
       "      <td>31</td>\n",
       "    </tr>\n",
       "    <tr>\n",
       "      <th>17</th>\n",
       "      <td>9</td>\n",
       "      <td>307932</td>\n",
       "      <td>165</td>\n",
       "      <td>62</td>\n",
       "    </tr>\n",
       "    <tr>\n",
       "      <th>18</th>\n",
       "      <td>8</td>\n",
       "      <td>326030</td>\n",
       "      <td>174</td>\n",
       "      <td>72</td>\n",
       "    </tr>\n",
       "    <tr>\n",
       "      <th>19</th>\n",
       "      <td>7</td>\n",
       "      <td>344127</td>\n",
       "      <td>184</td>\n",
       "      <td>60</td>\n",
       "    </tr>\n",
       "    <tr>\n",
       "      <th>20</th>\n",
       "      <td>8</td>\n",
       "      <td>362224</td>\n",
       "      <td>193</td>\n",
       "      <td>43</td>\n",
       "    </tr>\n",
       "    <tr>\n",
       "      <th>21</th>\n",
       "      <td>9</td>\n",
       "      <td>380322</td>\n",
       "      <td>203</td>\n",
       "      <td>68</td>\n",
       "    </tr>\n",
       "    <tr>\n",
       "      <th>22</th>\n",
       "      <td>7</td>\n",
       "      <td>398419</td>\n",
       "      <td>212</td>\n",
       "      <td>81</td>\n",
       "    </tr>\n",
       "    <tr>\n",
       "      <th>23</th>\n",
       "      <td>8</td>\n",
       "      <td>416516</td>\n",
       "      <td>222</td>\n",
       "      <td>47</td>\n",
       "    </tr>\n",
       "    <tr>\n",
       "      <th>24</th>\n",
       "      <td>7</td>\n",
       "      <td>434614</td>\n",
       "      <td>231</td>\n",
       "      <td>55</td>\n",
       "    </tr>\n",
       "    <tr>\n",
       "      <th>25</th>\n",
       "      <td>6</td>\n",
       "      <td>452711</td>\n",
       "      <td>240</td>\n",
       "      <td>80</td>\n",
       "    </tr>\n",
       "    <tr>\n",
       "      <th>26</th>\n",
       "      <td>8</td>\n",
       "      <td>470808</td>\n",
       "      <td>250</td>\n",
       "      <td>55</td>\n",
       "    </tr>\n",
       "    <tr>\n",
       "      <th>27</th>\n",
       "      <td>5</td>\n",
       "      <td>488906</td>\n",
       "      <td>259</td>\n",
       "      <td>61</td>\n",
       "    </tr>\n",
       "    <tr>\n",
       "      <th>28</th>\n",
       "      <td>7</td>\n",
       "      <td>507003</td>\n",
       "      <td>269</td>\n",
       "      <td>89</td>\n",
       "    </tr>\n",
       "    <tr>\n",
       "      <th>29</th>\n",
       "      <td>7</td>\n",
       "      <td>525101</td>\n",
       "      <td>278</td>\n",
       "      <td>52</td>\n",
       "    </tr>\n",
       "    <tr>\n",
       "      <th>...</th>\n",
       "      <td>...</td>\n",
       "      <td>...</td>\n",
       "      <td>...</td>\n",
       "      <td>...</td>\n",
       "    </tr>\n",
       "    <tr>\n",
       "      <th>70</th>\n",
       "      <td>7</td>\n",
       "      <td>1267092</td>\n",
       "      <td>664</td>\n",
       "      <td>48</td>\n",
       "    </tr>\n",
       "    <tr>\n",
       "      <th>71</th>\n",
       "      <td>9</td>\n",
       "      <td>1285190</td>\n",
       "      <td>673</td>\n",
       "      <td>41</td>\n",
       "    </tr>\n",
       "    <tr>\n",
       "      <th>72</th>\n",
       "      <td>6</td>\n",
       "      <td>1303287</td>\n",
       "      <td>683</td>\n",
       "      <td>90</td>\n",
       "    </tr>\n",
       "    <tr>\n",
       "      <th>73</th>\n",
       "      <td>6</td>\n",
       "      <td>1321385</td>\n",
       "      <td>692</td>\n",
       "      <td>39</td>\n",
       "    </tr>\n",
       "    <tr>\n",
       "      <th>74</th>\n",
       "      <td>6</td>\n",
       "      <td>1339482</td>\n",
       "      <td>702</td>\n",
       "      <td>55</td>\n",
       "    </tr>\n",
       "    <tr>\n",
       "      <th>75</th>\n",
       "      <td>7</td>\n",
       "      <td>1357579</td>\n",
       "      <td>711</td>\n",
       "      <td>44</td>\n",
       "    </tr>\n",
       "    <tr>\n",
       "      <th>76</th>\n",
       "      <td>7</td>\n",
       "      <td>1375677</td>\n",
       "      <td>720</td>\n",
       "      <td>84</td>\n",
       "    </tr>\n",
       "    <tr>\n",
       "      <th>77</th>\n",
       "      <td>5</td>\n",
       "      <td>1393774</td>\n",
       "      <td>730</td>\n",
       "      <td>71</td>\n",
       "    </tr>\n",
       "    <tr>\n",
       "      <th>78</th>\n",
       "      <td>9</td>\n",
       "      <td>1411871</td>\n",
       "      <td>739</td>\n",
       "      <td>61</td>\n",
       "    </tr>\n",
       "    <tr>\n",
       "      <th>79</th>\n",
       "      <td>7</td>\n",
       "      <td>1429969</td>\n",
       "      <td>749</td>\n",
       "      <td>84</td>\n",
       "    </tr>\n",
       "    <tr>\n",
       "      <th>80</th>\n",
       "      <td>9</td>\n",
       "      <td>1448066</td>\n",
       "      <td>758</td>\n",
       "      <td>66</td>\n",
       "    </tr>\n",
       "    <tr>\n",
       "      <th>81</th>\n",
       "      <td>7</td>\n",
       "      <td>1466163</td>\n",
       "      <td>768</td>\n",
       "      <td>62</td>\n",
       "    </tr>\n",
       "    <tr>\n",
       "      <th>82</th>\n",
       "      <td>8</td>\n",
       "      <td>1484261</td>\n",
       "      <td>777</td>\n",
       "      <td>31</td>\n",
       "    </tr>\n",
       "    <tr>\n",
       "      <th>83</th>\n",
       "      <td>7</td>\n",
       "      <td>1502358</td>\n",
       "      <td>786</td>\n",
       "      <td>62</td>\n",
       "    </tr>\n",
       "    <tr>\n",
       "      <th>84</th>\n",
       "      <td>6</td>\n",
       "      <td>1520456</td>\n",
       "      <td>796</td>\n",
       "      <td>67</td>\n",
       "    </tr>\n",
       "    <tr>\n",
       "      <th>85</th>\n",
       "      <td>8</td>\n",
       "      <td>1538553</td>\n",
       "      <td>805</td>\n",
       "      <td>59</td>\n",
       "    </tr>\n",
       "    <tr>\n",
       "      <th>86</th>\n",
       "      <td>8</td>\n",
       "      <td>1556650</td>\n",
       "      <td>815</td>\n",
       "      <td>32</td>\n",
       "    </tr>\n",
       "    <tr>\n",
       "      <th>87</th>\n",
       "      <td>6</td>\n",
       "      <td>1574748</td>\n",
       "      <td>824</td>\n",
       "      <td>76</td>\n",
       "    </tr>\n",
       "    <tr>\n",
       "      <th>88</th>\n",
       "      <td>6</td>\n",
       "      <td>1592845</td>\n",
       "      <td>833</td>\n",
       "      <td>102</td>\n",
       "    </tr>\n",
       "    <tr>\n",
       "      <th>89</th>\n",
       "      <td>6</td>\n",
       "      <td>1610942</td>\n",
       "      <td>843</td>\n",
       "      <td>39</td>\n",
       "    </tr>\n",
       "    <tr>\n",
       "      <th>90</th>\n",
       "      <td>8</td>\n",
       "      <td>1629040</td>\n",
       "      <td>852</td>\n",
       "      <td>87</td>\n",
       "    </tr>\n",
       "    <tr>\n",
       "      <th>91</th>\n",
       "      <td>5</td>\n",
       "      <td>1647137</td>\n",
       "      <td>862</td>\n",
       "      <td>89</td>\n",
       "    </tr>\n",
       "    <tr>\n",
       "      <th>92</th>\n",
       "      <td>7</td>\n",
       "      <td>1665234</td>\n",
       "      <td>871</td>\n",
       "      <td>97</td>\n",
       "    </tr>\n",
       "    <tr>\n",
       "      <th>93</th>\n",
       "      <td>8</td>\n",
       "      <td>1683332</td>\n",
       "      <td>881</td>\n",
       "      <td>74</td>\n",
       "    </tr>\n",
       "    <tr>\n",
       "      <th>94</th>\n",
       "      <td>8</td>\n",
       "      <td>1701429</td>\n",
       "      <td>890</td>\n",
       "      <td>64</td>\n",
       "    </tr>\n",
       "    <tr>\n",
       "      <th>95</th>\n",
       "      <td>7</td>\n",
       "      <td>1719527</td>\n",
       "      <td>899</td>\n",
       "      <td>62</td>\n",
       "    </tr>\n",
       "    <tr>\n",
       "      <th>96</th>\n",
       "      <td>6</td>\n",
       "      <td>1737624</td>\n",
       "      <td>909</td>\n",
       "      <td>70</td>\n",
       "    </tr>\n",
       "    <tr>\n",
       "      <th>97</th>\n",
       "      <td>7</td>\n",
       "      <td>1755721</td>\n",
       "      <td>918</td>\n",
       "      <td>58</td>\n",
       "    </tr>\n",
       "    <tr>\n",
       "      <th>98</th>\n",
       "      <td>7</td>\n",
       "      <td>1773819</td>\n",
       "      <td>928</td>\n",
       "      <td>32</td>\n",
       "    </tr>\n",
       "    <tr>\n",
       "      <th>99</th>\n",
       "      <td>7</td>\n",
       "      <td>1791916</td>\n",
       "      <td>937</td>\n",
       "      <td>59</td>\n",
       "    </tr>\n",
       "  </tbody>\n",
       "</table>\n",
       "<p>100 rows × 4 columns</p>\n",
       "</div>"
      ],
      "text/plain": [
       "    Rating   Votes  Revenue  Metascore\n",
       "0        7     277        5         63\n",
       "1        8   18374       14         61\n",
       "2        6   36472       24         45\n",
       "3        8   54569       33         48\n",
       "4        7   72666       43         60\n",
       "5        7   90764       52         37\n",
       "6        7  108861       61         33\n",
       "7        7  126959       71         69\n",
       "8        7  145056       80         64\n",
       "9        8  163153       90         10\n",
       "10       6  181251       99         88\n",
       "11       5  199348      109         55\n",
       "12       8  217445      118         39\n",
       "13       8  235543      127         33\n",
       "14       8  253640      137         53\n",
       "15       4  271737      146         89\n",
       "16       7  289835      156         31\n",
       "17       9  307932      165         62\n",
       "18       8  326030      174         72\n",
       "19       7  344127      184         60\n",
       "20       8  362224      193         43\n",
       "21       9  380322      203         68\n",
       "22       7  398419      212         81\n",
       "23       8  416516      222         47\n",
       "24       7  434614      231         55\n",
       "25       6  452711      240         80\n",
       "26       8  470808      250         55\n",
       "27       5  488906      259         61\n",
       "28       7  507003      269         89\n",
       "29       7  525101      278         52\n",
       "..     ...     ...      ...        ...\n",
       "70       7 1267092      664         48\n",
       "71       9 1285190      673         41\n",
       "72       6 1303287      683         90\n",
       "73       6 1321385      692         39\n",
       "74       6 1339482      702         55\n",
       "75       7 1357579      711         44\n",
       "76       7 1375677      720         84\n",
       "77       5 1393774      730         71\n",
       "78       9 1411871      739         61\n",
       "79       7 1429969      749         84\n",
       "80       9 1448066      758         66\n",
       "81       7 1466163      768         62\n",
       "82       8 1484261      777         31\n",
       "83       7 1502358      786         62\n",
       "84       6 1520456      796         67\n",
       "85       8 1538553      805         59\n",
       "86       8 1556650      815         32\n",
       "87       6 1574748      824         76\n",
       "88       6 1592845      833        102\n",
       "89       6 1610942      843         39\n",
       "90       8 1629040      852         87\n",
       "91       5 1647137      862         89\n",
       "92       7 1665234      871         97\n",
       "93       8 1683332      881         74\n",
       "94       8 1701429      890         64\n",
       "95       7 1719527      899         62\n",
       "96       6 1737624      909         70\n",
       "97       7 1755721      918         58\n",
       "98       7 1773819      928         32\n",
       "99       7 1791916      937         59\n",
       "\n",
       "[100 rows x 4 columns]"
      ]
     },
     "execution_count": 62,
     "metadata": {},
     "output_type": "execute_result"
    }
   ],
   "source": [
    "SimData.round(0)"
   ]
  },
  {
   "cell_type": "code",
   "execution_count": 60,
   "metadata": {},
   "outputs": [
    {
     "data": {
      "text/plain": [
       "<seaborn.axisgrid.PairGrid at 0x1de5a1dd4a8>"
      ]
     },
     "execution_count": 60,
     "metadata": {},
     "output_type": "execute_result"
    },
    {
     "data": {
      "image/png": "[encoded data removed]",
      "text/plain": [
       "<Figure size 720x180 with 4 Axes>"
      ]
     },
     "metadata": {},
     "output_type": "display_data"
    }
   ],
   "source": [
    "sns.pairplot(SimData,x_vars=[\"Rating\",\"Votes\",\"Revenue\",\"Metascore\"], y_vars=[\"Revenue\"],\n",
    "            kind=\"reg\")"
   ]
  },
  {
   "cell_type": "code",
   "execution_count": 61,
   "metadata": {},
   "outputs": [
    {
     "data": {
      "image/png": "[encoded data removed]",
      "text/plain": [
       "<Figure size 432x288 with 1 Axes>"
      ]
     },
     "metadata": {},
     "output_type": "display_data"
    }
   ],
   "source": [
    "sns.regplot(x=\"Votes\", y=\"Revenue\", data=SimData);"
   ]
  },
  {
   "cell_type": "code",
   "execution_count": null,
   "metadata": {},
   "outputs": [],
   "source": [
    "SimData.loc"
   ]
  },
  {
   "cell_type": "code",
   "execution_count": null,
   "metadata": {},
   "outputs": [],
   "source": []
  },
  {
   "cell_type": "markdown",
   "metadata": {},
   "source": [
    "## Bibliography"
   ]
  },
  {
   "cell_type": "markdown",
   "metadata": {},
   "source": [
    "1. IMDB Website - https://help.imdb.com/article/imdb/general-information/what-is-imdb/G836CY29Z4SGNMK5?ref_=__seemr#\n"
   ]
  },
  {
   "cell_type": "markdown",
   "metadata": {},
   "source": [
    "2. N.A. Pangarker and E.v.d.M. Smit 2013,The determinants of box office performance in the film industry revisited.\n",
    "   https://pdfs.semanticscholar.org/c960/7aaa7746ec9735a19d0ab2e524e53d20ab7f.pdf"
   ]
  },
  {
   "cell_type": "markdown",
   "metadata": {},
   "source": [
    "3. Litman, B. 1983. ‘Predicting success of theatrical movies: An empirical study’, Journal of Popular Culture.\n",
    "   https://www.researchgate.net/publication/229673102_Predicting_Success_of_Theatrical_Movies_An_Empirical_Study"
   ]
  },
  {
   "cell_type": "markdown",
   "metadata": {},
   "source": [
    "4. De Vany, A. & Walls, W.D. 2002. ‘Does Hollywood make too many R-rated movies? Risk, stochastic dominance, and\n",
    "the illusion of expectation’Journal of business\n",
    "   https://www.jstor.org/stable/10.1086/339890?seq=8#metadata_info_tab_contents\n",
    "   https://www.nytimes.com/2000/03/23/business/economic-scene-golden-formula-for-hollywood-success-it-only-happens-movies.html"
   ]
  },
  {
   "cell_type": "markdown",
   "metadata": {},
   "source": [
    "5. David A. Reinstein,2000. The Influence of Expert Reviews on Consumer Demand for Experience Goods:\n",
    "    A Case Study of Movie Critics\n",
    "    http://ses-perso.telecom-paristech.fr/survey/CanauxInformBienExpe/ReinsteinSnyder2000.pdf"
   ]
  },
  {
   "cell_type": "markdown",
   "metadata": {},
   "source": [
    "6. Marlon Ramos,Angelo M. Calvão,Celia Anteneodo, 2015 Statistical Patterns in Movie Rating Behavior\n",
    "   https://www.ncbi.nlm.nih.gov/pmc/articles/PMC4555649/"
   ]
  },
  {
   "cell_type": "markdown",
   "metadata": {},
   "source": [
    "7. Neil Terry, The Determinants of Box Office Revenue for Horror Movie\n",
    "   http://www.jgbm.org/page/28Neil%20Terry%20.pdf "
   ]
  },
  {
   "cell_type": "markdown",
   "metadata": {},
   "source": [
    "8. https://www.metacritic.com/feature/film-quality-vs-box-office-grosses"
   ]
  },
  {
   "cell_type": "markdown",
   "metadata": {},
   "source": [
    "9. Sangkil Moon, Paul K. Bergey, & Dawn Iacobucc, 2010 Dynamic Effects Among Movie, Ratings, Movie Revenues,and viewer\n",
    "   Satisfaction\n",
    "   https://pdfs.semanticscholar.org/097d/4ef52957c7260cf56bddd5dd0973fe6b109e.pdf"
   ]
  },
  {
   "cell_type": "markdown",
   "metadata": {},
   "source": [
    "10. Lognormal Distributions\n",
    "    http://www.ucd.ie/ecomodel/Resources/Sheet4_data_distributions_WebVersion.html\n",
    "    "
   ]
  },
  {
   "cell_type": "code",
   "execution_count": 21,
   "metadata": {},
   "outputs": [
    {
     "data": {
      "text/plain": [
       "array([6.82490969e+081, 1.57875584e+070, 1.98741046e+071, 9.62010111e+013,\n",
       "       8.65845799e+079, 4.03998300e+095, 3.10389878e+044, 4.01380691e+016,\n",
       "       2.12195339e+075, 9.79695017e+040, 1.59824843e+081, 1.26150464e+065,\n",
       "       2.67110305e+081, 2.25007277e+117, 3.89579054e+033, 5.26056408e+155,\n",
       "       4.73647769e-011, 2.23677688e-007, 2.05097566e+002, 8.74948825e+064,\n",
       "       8.44359716e+080, 9.04343022e-007, 9.20251207e+078, 6.92371411e+080,\n",
       "       6.38080772e+064, 2.57244526e-016, 5.19276883e+089, 1.17757317e-008,\n",
       "       2.32464209e+027, 9.45415789e+098, 2.77536312e+040, 8.45565590e+119,\n",
       "       9.97831912e+015, 5.27704899e+083, 7.97842446e+060, 7.83767816e+120,\n",
       "       9.03891905e-016, 9.66801317e+053, 1.69895757e+100, 2.97273966e-001,\n",
       "       1.57328829e+073, 1.10808366e-006, 7.90721219e+082, 4.03535666e+119,\n",
       "       2.46149344e+089, 1.10829386e+018, 2.36948431e+076, 1.39099761e+064,\n",
       "       1.35235903e-007, 7.58383371e-050, 2.26917119e+028, 4.07907861e+103,\n",
       "       1.36554957e+062, 6.19397823e+094, 8.72600718e+021, 4.78121691e+084,\n",
       "       7.64802976e+021, 2.66267302e+067, 2.30299010e+048, 4.00742743e+145,\n",
       "       3.03504667e+081, 6.07141846e+075, 3.79875386e+073, 2.32738461e+097,\n",
       "       8.87272190e+069, 7.96779123e+104, 1.54092302e-010, 9.54851816e-043,\n",
       "       2.51140909e+114, 2.51836799e+070, 1.49547750e+071, 9.70372018e+118,\n",
       "       6.89785208e+031, 2.31631854e+005, 7.23947244e+094, 5.63586415e+084,\n",
       "       6.11512411e+031, 3.70185097e+104, 5.43076670e+047, 1.70564904e+057,\n",
       "       1.08028860e+002, 1.27212822e+002, 9.10831236e-031, 3.67821593e-041,\n",
       "       6.68282951e+036, 4.35425213e+014, 1.20363606e+050, 2.60202534e+047,\n",
       "       4.53775472e+046, 3.37949308e+035, 1.93502005e+037, 1.14613101e+035,\n",
       "       1.18070721e+130, 5.45699452e-030, 2.82664903e+014, 6.03166041e-056,\n",
       "       8.98016907e+028, 3.79676794e-023, 1.80131307e+050, 2.40784859e+074,\n",
       "       2.55065519e+037, 9.83534960e+044, 7.47319029e+051, 2.77451364e+048,\n",
       "       9.80525881e+146, 1.32885120e+082, 2.38642949e+010, 1.21353376e-003,\n",
       "       2.94580418e+041, 4.42053609e+007, 4.38501794e+043, 1.43950059e+026,\n",
       "       8.63858501e+040, 1.72211972e+053, 2.57636186e+035, 2.11068985e+056,\n",
       "       3.26913518e-035, 8.43079035e+032, 1.46632901e+029, 2.89092942e+019,\n",
       "       1.87206011e+045, 6.06800687e+074, 9.34289704e+045, 5.24468921e+021,\n",
       "       2.24998076e+053, 1.15375387e+034, 7.70075852e+031, 4.69431591e+077,\n",
       "       1.13800466e+004, 1.49456552e+011, 1.08160742e+046, 3.70766309e+088,\n",
       "       1.23567029e+040, 8.73115516e+043, 3.40527694e+079, 4.63109301e+067,\n",
       "       3.76429281e+089, 4.21013885e+005, 2.17205207e+098, 2.85702449e+060,\n",
       "       4.74439591e+110, 2.67081830e+010, 1.13793628e+017, 2.81663428e+021,\n",
       "       1.70658993e+116, 7.15062208e+023, 1.29508684e+078, 1.91848846e+019,\n",
       "       1.03851975e+101, 8.51913256e+013, 8.07897279e+040, 1.01046195e+038,\n",
       "       3.15293783e+041, 1.39001150e+074, 4.18244617e+068, 7.14447651e+113,\n",
       "       1.09883018e+022, 1.16329761e+098, 1.83005873e+060, 2.77393897e+117,\n",
       "       2.72747885e-073, 2.27511153e+013, 1.13259641e-014, 4.05872048e+106,\n",
       "       1.12200761e+063, 1.38345562e+044, 1.08822506e+095, 1.42096263e+031,\n",
       "       1.13402585e-034, 3.89022639e+016, 1.72766809e+022, 3.95322960e+073,\n",
       "       3.75725604e+092, 9.84094384e+057, 3.15894589e+090, 5.16930592e+135,\n",
       "       9.13930591e+029, 7.11001188e+036, 1.42205369e-012, 1.01376072e+053,\n",
       "       3.86519024e+023, 2.19411351e+038, 8.48716624e+103, 8.34942555e-010,\n",
       "       1.94797426e-008, 7.54733775e+009, 2.69481110e+010, 7.18622811e+054,\n",
       "       1.72848095e+046, 9.25167657e-021, 2.35520533e-034, 4.03150999e+019,\n",
       "       1.51204550e-034, 2.69913010e+063, 3.05444247e-027, 5.86027138e+033,\n",
       "       1.28855864e+078, 9.79588455e-036, 2.39940114e+026, 1.86242612e+025,\n",
       "       9.77880563e+078, 7.04546089e+043, 1.14426507e+068, 6.60157513e-038,\n",
       "       1.45394879e+025, 3.72014259e+002, 2.09663769e-029, 5.98613240e+052,\n",
       "       4.20676011e+018, 3.03845812e+075, 2.03498751e+037, 1.91610931e+027,\n",
       "       5.75232958e+009, 1.85436960e+016, 4.72413567e+011, 1.75774301e+033,\n",
       "       8.81279617e+028, 2.44619428e+005, 5.44064405e+125, 4.93530986e+030,\n",
       "       3.78448284e-017, 7.04947296e+113, 2.92492155e+025, 4.09314820e+006,\n",
       "       6.18310186e+033, 1.22926606e+102, 1.62888583e+101, 2.49878801e+067,\n",
       "       4.71331990e+023, 3.18277830e+046, 1.40158531e+091, 1.11212528e+016,\n",
       "       6.94234703e+102, 1.09526260e-055, 3.15306364e+053, 1.20262575e-002,\n",
       "       4.80457993e+062, 8.71073338e-018, 1.03563377e+053, 1.38171479e+073,\n",
       "       8.51926766e+079, 5.67650830e+042, 1.33273980e+030, 2.83767367e+097,\n",
       "       1.25534947e+032, 3.32294853e+091, 2.24396083e+029, 8.53650936e+061,\n",
       "       7.08524807e+023, 1.70918513e+049, 9.32229966e-088, 1.34041396e+060,\n",
       "       6.34623693e+027, 1.86467543e-003, 1.91835766e-016, 6.27173536e+077,\n",
       "       3.81734874e-007, 1.41502498e+089, 1.76748581e+015, 3.15483889e+013,\n",
       "       2.56281571e+061, 2.90493797e+057, 2.32146743e+022, 2.42108608e-007,\n",
       "       4.01235089e+106, 2.62045907e+019, 4.36941143e+042, 5.40981859e+001,\n",
       "       2.85133364e+046, 7.86666572e-012, 3.80388863e-003, 2.31597440e+036,\n",
       "       1.43578646e-061, 7.86396033e+082, 5.48791402e+006, 8.04018266e+021,\n",
       "       7.00656991e+092, 4.65960820e+032, 2.70867785e+109, 1.63272789e+056,\n",
       "       1.55052780e+095, 4.92816733e+005, 1.54763866e+041, 9.69604138e+096,\n",
       "       7.10337156e+018, 1.99061762e+182, 6.04671426e+075, 8.06054958e+001,\n",
       "       1.72829774e+002, 2.08294918e+075, 1.00184449e+073, 1.26438479e+100,\n",
       "       6.75958208e+080, 2.44157086e+090, 7.96978911e+011, 5.70300555e+120,\n",
       "       4.44138640e+045, 1.25926988e+048, 7.59100799e+009, 1.57515642e+089,\n",
       "       2.70624439e+060, 5.56810096e+112, 8.32017258e+053, 2.53439785e-057,\n",
       "       4.38441118e+067, 2.19748134e+032, 5.21659157e+013, 5.48191084e+022,\n",
       "       2.64570585e+039, 2.13322306e+092, 1.74567817e+063, 5.45924852e+046,\n",
       "       2.63467073e+044, 2.10595213e+018, 2.56374589e+108, 4.67773726e-038,\n",
       "       8.80712251e+036, 3.20703639e+009, 8.93722462e+035, 9.42075960e+021,\n",
       "       5.45496523e+042, 2.23910163e+043, 8.90879032e+049, 6.87622129e+001,\n",
       "       4.08361560e+039, 4.67424799e+023, 2.69848541e+035, 5.04409610e+021,\n",
       "       7.22607116e-065, 1.87963734e-019, 3.90553466e+092, 1.49514023e+072,\n",
       "       5.09959333e+029, 1.51585389e+041, 6.61198099e+093, 4.16774217e+100,\n",
       "       9.75761394e+026, 7.75227112e+044, 2.50899953e-007, 2.77934412e+044,\n",
       "       5.49925408e+112, 5.52431515e+026, 5.74982524e-017, 8.45229745e+019,\n",
       "       6.64558265e+041, 3.58665146e+029, 3.74798007e+066, 1.44616734e+014,\n",
       "       1.08001158e+039, 2.13958933e-061, 1.67258171e-021, 4.01400950e+049,\n",
       "       1.02488555e+106, 3.77803543e+096, 3.87605747e+074, 7.80026863e-090,\n",
       "       3.11412778e+017, 3.86385824e+046, 1.62664175e-004, 7.30093734e-005,\n",
       "       9.91354369e+063, 4.63385586e+100, 2.84151983e+164, 7.59152458e+027,\n",
       "       1.24292023e+082, 2.90175335e-007, 3.07642416e+138, 1.58658131e+020,\n",
       "       3.23027461e-010, 9.02975091e-014, 1.15964251e-015, 7.64828927e+064,\n",
       "       2.63990244e+061, 1.67718883e+040, 3.80677159e+044, 2.99645548e+023,\n",
       "       7.58299526e+001, 6.26449440e+130, 6.76170884e+034, 3.41014208e+085,\n",
       "       3.43020226e+051, 2.16361176e+064, 2.45668778e+081, 1.45692258e+063,\n",
       "       1.41932004e+066, 3.67116410e+012, 2.29994771e+001, 5.26071194e+067,\n",
       "       4.80277424e+029, 7.47352504e+052, 3.16064665e+021, 3.49121033e+063,\n",
       "       4.75688090e+054, 9.49720548e+030, 1.14806696e+068, 4.13897931e-042,\n",
       "       2.88236414e+033, 6.59932109e+062, 3.29019605e+086, 3.38245732e-033,\n",
       "       3.01545341e-027, 6.20097610e+114, 4.05020823e+112, 2.83230998e+051,\n",
       "       8.46257883e+037, 2.59810934e+052, 6.58535299e-063, 1.54280785e+017,\n",
       "       5.08211863e+115, 1.05605338e+091, 3.66733685e+031, 9.44305025e+040,\n",
       "       1.44791936e-030, 5.14293646e+039, 4.81218328e+117, 8.69147312e+051,\n",
       "       3.06583347e-012, 9.20225135e-034, 8.06263096e+024, 2.46066873e+032,\n",
       "       1.26456787e-014, 1.37908336e-041, 8.23148337e+083, 7.19592121e+011,\n",
       "       2.82210269e+019, 5.23472135e+001, 2.87589306e+066, 7.97880299e+063,\n",
       "       2.26951285e+024, 1.40978645e+042, 1.11314405e+074, 5.48733746e+058,\n",
       "       2.34671920e-009, 2.73635839e+064, 1.52853784e+056, 3.43428761e-063,\n",
       "       3.76902814e+031, 6.61739156e+051, 1.14378250e+078, 1.21002685e+087,\n",
       "       1.03660477e+066, 3.85667777e+014, 4.19757363e+064, 3.53965138e+043,\n",
       "       1.06721282e+023, 2.20413336e+047, 7.07260850e+064, 2.81263303e+030,\n",
       "       6.99699035e+070, 2.11828127e-038, 2.86651527e+044, 3.22837308e+017,\n",
       "       7.10507825e-010, 8.71897388e+092, 4.18018728e+092, 7.68345210e+117,\n",
       "       7.22377159e+120, 1.15259887e+131, 2.08108848e+017, 1.21822551e+000,\n",
       "       1.56105142e+032, 9.93369511e+072, 5.80592692e+041, 1.50402492e-023,\n",
       "       7.76186579e+023, 5.29427400e+046, 4.38352945e+060, 4.58235028e-022,\n",
       "       4.20823447e+012, 1.48267331e-001, 3.73961767e+047, 2.03153538e+025,\n",
       "       1.27532460e+013, 4.85465418e+045, 2.76230733e+032, 9.17921261e+013,\n",
       "       5.63436688e+001, 4.60087110e+027, 2.34933760e+005, 9.79199342e+056,\n",
       "       8.82451687e+044, 3.03831053e+074, 6.25789295e+131, 3.67381598e+052,\n",
       "       8.42746492e+041, 2.81285661e+035, 2.97455757e+009, 6.36532317e+091,\n",
       "       2.87005459e+031, 9.32281162e-030, 5.40817368e+043, 8.54500756e+052,\n",
       "       1.14900975e+081, 3.85530800e+099, 2.00793866e+024, 1.51788479e+017,\n",
       "       4.86701443e+007, 2.13341629e-018, 1.62741157e+067, 2.32105712e+088,\n",
       "       3.90561639e+058, 7.69420836e+025, 1.29233345e+122, 7.11286599e+102,\n",
       "       3.24220853e+059, 1.37239730e+138, 4.67034656e+061, 1.23437269e+054,\n",
       "       1.97230540e+099, 2.58041485e+073, 7.37434628e+058, 1.01053238e+063,\n",
       "       1.44869807e+078, 3.45127405e+098, 6.32505713e+068, 7.26647099e+038,\n",
       "       2.69605001e+054, 6.86982447e+048, 3.70796099e+029, 1.10830667e+085,\n",
       "       1.45797862e+074, 1.06979426e+019, 1.34031870e+097, 9.07810323e+035,\n",
       "       5.97494012e+057, 5.23675402e-012, 9.41843103e+020, 1.69450925e+033,\n",
       "       1.17754098e+081, 2.92056688e+004, 1.30657500e+095, 7.21682194e+045,\n",
       "       2.28761267e+031, 2.53486334e+123, 6.72656931e+012, 1.57209129e+083,\n",
       "       7.60661051e+034, 6.46940714e+095, 1.37657728e+054, 3.74942357e+073,\n",
       "       1.31353527e+030, 5.51091912e+076, 7.27224825e+053, 1.65067166e+116,\n",
       "       7.34463456e-013, 1.31548151e+007, 3.31563274e+077, 4.39989432e+031,\n",
       "       5.63412467e+153, 5.18040034e-034, 5.86529372e-043, 1.59360579e+049,\n",
       "       3.37668470e-017, 1.68478936e+039, 1.64776554e+042, 5.94571584e+107,\n",
       "       5.90845474e+033, 2.11973025e+079, 2.82095381e+082, 7.13880779e+074,\n",
       "       5.13521668e+015, 8.07934914e+045, 5.79620498e+066, 1.18371309e+018,\n",
       "       2.37102920e+132, 2.86493464e+090, 7.79993940e+092, 7.96504624e+011,\n",
       "       1.86451155e-024, 3.56579486e+045, 2.25990137e+039, 2.93204380e+036,\n",
       "       9.75237240e+125, 3.54469445e-009, 1.37496643e+026, 4.70276830e+027,\n",
       "       3.19417312e+033, 4.15739956e+064, 2.75877441e+084, 1.40195927e+083,\n",
       "       9.57201498e+065, 2.09922442e+064, 2.54797357e+085, 2.12030964e+042,\n",
       "       3.87792431e+025, 1.60009137e+123, 6.09594649e+029, 5.14131956e+037,\n",
       "       1.36795430e+013, 1.42757537e+012, 1.39477171e+034, 2.35921074e+013,\n",
       "       1.75728102e-043, 1.02155294e+110, 2.76332150e+071, 1.13844216e+091,\n",
       "       3.69567708e+092, 1.44560040e+070, 1.38089680e+024, 9.90248462e+082,\n",
       "       1.23018913e+049, 2.74491285e+013, 8.77505877e-005, 3.57682517e+068,\n",
       "       8.83966249e+076, 7.38904323e-008, 6.71988993e-033, 1.12761677e+133,\n",
       "       6.89057907e+103, 3.95545109e+039, 3.03066504e+029, 5.54229248e+011,\n",
       "       2.14553370e+074, 4.90912584e+070, 3.22567443e+016, 5.29732942e+088,\n",
       "       2.71808274e+118, 1.12849099e+156, 4.79488664e+035, 1.33276286e-004,\n",
       "       1.33790374e+067, 3.75124194e+070, 3.00739716e+071, 2.78391521e+090,\n",
       "       1.58076528e+050, 6.91814123e+050, 1.16582994e+057, 6.69055934e+121,\n",
       "       1.78358875e+020, 3.20403587e+005, 3.21622666e+009, 2.96435238e+074,\n",
       "       4.87796469e-029, 3.30747687e+083, 3.48017468e+032, 9.84519935e-059,\n",
       "       5.82805336e-010, 9.02250382e+096, 4.45932456e+098, 8.46145142e+007,\n",
       "       8.87171604e-025, 8.46629756e+040, 3.13293135e+123, 7.04642980e+049,\n",
       "       6.61604511e-044, 2.60382713e+046, 1.99429961e-026, 1.20707741e+003,\n",
       "       5.31682046e+031, 1.35456574e-012, 4.38988710e-032, 4.54648669e+022,\n",
       "       5.11559687e-024, 3.00823942e+108, 2.82880799e+053, 3.17665516e+068,\n",
       "       1.40636478e+053, 3.42652272e-002, 2.01707742e+010, 1.10597769e+034,\n",
       "       1.79239829e+109, 2.27790040e+078, 2.33549723e+081, 5.55320740e+087,\n",
       "       4.20094820e+022, 5.21092259e-025, 3.14684681e+020, 4.11373578e+000,\n",
       "       5.30853425e+104, 1.19655150e-009, 1.64927716e+022, 2.94724831e+103,\n",
       "       9.72896134e+032, 5.24224216e+044, 1.23913472e+155, 5.68401064e+037,\n",
       "       3.10842954e+060, 2.19413373e+022, 1.43603492e+042, 1.93333409e+086,\n",
       "       3.63319173e+030, 6.85878591e+050, 3.72611081e+018, 3.17430199e+046,\n",
       "       4.80804865e+029, 1.18446511e+039, 1.05783476e-047, 1.71459236e+053,\n",
       "       5.91438005e+103, 2.44973592e+051, 9.08434910e+060, 1.22702711e+106,\n",
       "       1.14508382e+106, 3.44311189e-009, 6.29253616e+080, 1.67736667e-020,\n",
       "       2.30378014e+087, 2.61741566e+017, 1.71341775e+109, 2.20141112e+073,\n",
       "       5.83758625e+009, 2.59054499e+066, 1.50800337e+039, 6.90303056e+037,\n",
       "       1.27649162e+090, 2.70445501e-075, 9.07896399e+118, 1.34746024e+092,\n",
       "       2.83075920e+115, 4.62057214e+087, 1.08994193e+053, 2.00226795e+066,\n",
       "       1.96876969e+107, 2.71561610e+048, 8.43303046e+045, 1.06979885e+027,\n",
       "       1.42902852e+028, 1.16128104e+068, 1.86546867e+044, 3.17734164e+003,\n",
       "       7.77719677e+055, 3.43006723e+052, 5.71628948e+017, 1.77894235e-006,\n",
       "       5.35509978e+038, 3.04590756e+049, 9.24329526e+051, 9.35681840e+057,\n",
       "       4.55222601e+100, 6.09162956e+038, 1.63693420e+030, 2.44493256e+036,\n",
       "       7.59655286e+081, 2.17714214e+102, 1.89173157e+016, 3.57984881e+077,\n",
       "       2.83500079e+095, 2.24974645e+038, 2.35695420e-006, 4.48138119e+073,\n",
       "       2.84501471e+085, 1.11629179e+155, 3.76152810e-045, 1.69505622e+074,\n",
       "       1.90449318e+090, 1.09380843e+013, 2.49363968e+014, 2.81789159e+035,\n",
       "       3.65247182e+037, 1.31774771e+051, 1.20536359e+135, 3.35465195e+006,\n",
       "       1.68984298e+050, 1.87466609e+052, 1.05562006e+065, 1.53707157e+012,\n",
       "       1.82410380e-013, 7.51250359e+120, 4.32769795e+073, 1.34928605e+063,\n",
       "       3.77883395e+071, 1.02392857e+032, 3.92795249e-016, 5.60217536e+117,\n",
       "       5.17065135e+013, 4.70403751e+093, 5.07610910e+046, 5.48791062e+059,\n",
       "       1.14866863e-053, 7.67769577e+103, 8.18249735e+036, 1.28390826e+008,\n",
       "       6.88659444e+015, 2.51200951e+004, 2.92057972e+008, 9.96930572e+128,\n",
       "       2.23474897e-001, 4.56127444e+047, 1.71125082e+018, 7.62776611e+015,\n",
       "       2.34970554e+106, 1.97591008e+088, 3.07728124e+038, 7.08135146e+009,\n",
       "       4.36089009e+049, 5.73583225e+097, 1.75666001e+000, 6.45370552e+022,\n",
       "       3.32175391e+110, 2.69196540e+009, 3.75784844e+089, 1.04960792e+018,\n",
       "       1.16625576e+076, 6.11689233e+114, 1.24834470e+033, 1.32706838e+087,\n",
       "       1.10883644e+057, 1.39157605e+051, 1.42910262e-001, 1.66345420e+040,\n",
       "       1.80147995e+030, 4.65573537e+047, 1.45193799e+037, 8.72151784e+023,\n",
       "       4.75751847e+089, 1.34645279e+016, 4.99602911e+098, 2.86080159e+037,\n",
       "       1.10461577e-011, 8.87340698e+100, 1.04589622e+006, 1.30827913e-064,\n",
       "       6.61823078e-022, 6.74059088e+086, 8.48191725e+085, 4.69742159e+032,\n",
       "       9.98651265e+021, 4.49262609e+071, 3.71415304e+033, 5.32342742e+044,\n",
       "       6.58328385e+072, 1.53437012e+082, 3.65742399e+046, 4.47942138e-017,\n",
       "       9.00010408e+062, 5.49716601e+101, 2.82869053e+097, 4.12070360e+056,\n",
       "       1.24492270e+076, 1.72579627e+083, 3.49212905e+062, 1.11071148e+019,\n",
       "       1.40864769e+011, 4.78382180e-001, 7.38409106e+034, 2.27728153e+083,\n",
       "       4.14077221e+119, 5.89028344e+041, 3.72216957e+024, 1.09591587e+100,\n",
       "       4.73958309e-048, 1.09402633e+102, 1.82680851e+017, 5.20186218e+036,\n",
       "       9.08642934e+027, 2.08181612e-033, 1.34586599e+030, 6.56559771e+077,\n",
       "       1.77255432e-021, 6.28715343e+068, 2.06082639e+118, 6.11758481e+061,\n",
       "       1.19043617e+021, 5.11760702e+074, 9.86790292e+067, 1.43964104e-038,\n",
       "       2.39879714e-037, 6.35268929e+092, 6.78426679e+042, 1.87210615e+010,\n",
       "       8.38690796e+036, 7.64676970e+035, 3.27887631e-023, 2.54401846e+072,\n",
       "       2.84662357e-083, 1.11230372e+105, 1.21859543e+066, 1.33434780e+064,\n",
       "       7.44730434e+065, 1.21068043e+140, 6.81875865e+042, 1.12225373e+067,\n",
       "       2.21731070e+067, 7.89815844e+061, 1.51511838e+080, 5.28694038e+031,\n",
       "       3.13323793e+049, 9.83133158e+063, 1.82981955e-012, 2.22252726e+109,\n",
       "       2.96097349e+068, 6.64719589e+018, 2.69495032e+102, 7.01673130e-018,\n",
       "       4.62603186e-018, 2.82136379e+100, 1.08152961e+074, 3.80801395e+082,\n",
       "       4.09282586e+045, 1.45799099e+052, 1.52245297e+129, 2.79603617e+048,\n",
       "       3.30635414e+031, 1.30720790e-010, 9.62607465e+039, 1.02509554e+021,\n",
       "       2.94754267e-032, 1.23054303e+042, 4.93488906e+042, 2.87343206e-024,\n",
       "       1.12686837e+065, 4.64168683e+076, 4.55854664e+096, 7.24852871e+041,\n",
       "       9.09554886e+066, 1.69498281e+060, 1.16892486e+009, 4.67762342e+068,\n",
       "       4.05965022e-024, 1.30772364e+055, 1.65261451e+035, 6.13497448e+022,\n",
       "       2.85800661e+094, 1.52265747e-040, 4.98004870e+061, 2.28514442e+138,\n",
       "       1.65490632e+041, 7.18103031e+057, 1.08841583e-021, 1.75284599e+003,\n",
       "       5.07431723e+084, 5.40011162e+046, 6.17589844e-032, 2.90653288e+045,\n",
       "       1.23151008e+042, 2.58659710e+052, 6.16461601e+067, 2.46327916e+086,\n",
       "       6.48240591e+143, 1.63102001e+031, 1.68518527e+039, 2.87728002e+033,\n",
       "       1.36648836e-011, 7.10582353e+073, 1.28797860e+056, 5.04798555e+073,\n",
       "       1.24736741e+132, 5.17204215e+057, 4.76319318e+087, 9.83526488e+010,\n",
       "       1.84989973e-028, 1.99579297e+026, 1.38892347e+030, 6.36352917e-046,\n",
       "       2.99595064e+076, 2.89583774e+024, 5.60070781e+029, 8.87330422e+061,\n",
       "       1.26718149e+052, 6.93368182e-004, 4.49389924e+053, 1.14323176e+016,\n",
       "       5.09727805e+002, 5.49999390e+050, 9.61516972e+063, 4.37175256e-030,\n",
       "       9.03736871e+006, 3.93358194e+040, 4.62868319e+124, 8.39577822e+028,\n",
       "       1.76636448e+047, 5.70129282e+074, 3.60780355e+021, 8.49042470e+134,\n",
       "       6.88453752e+094, 2.96018516e+011, 2.73994530e+042, 3.74168061e-025,\n",
       "       2.28386304e+008, 5.13086168e+050, 5.59376429e-028, 6.00946983e+051,\n",
       "       7.30402092e-042, 3.60132996e+100, 1.85526851e-001, 1.74455945e+053,\n",
       "       6.46462583e+007, 1.74631147e-027, 4.65910020e+065, 2.36721118e+014,\n",
       "       5.93631206e+047, 1.50098325e+033, 1.16882553e+076, 1.67754955e-043,\n",
       "       2.06323400e+005, 5.66650747e+142, 2.16101941e+033, 3.05794280e+073,\n",
       "       5.29980970e+075, 4.01658383e+024, 2.26580271e+022, 1.98530331e-022,\n",
       "       7.48595590e+064, 1.19507071e+099, 1.37689948e+084, 7.17741664e+012,\n",
       "       4.33750251e+029, 1.46339239e-040, 2.56297169e-007, 1.61428794e+044])"
      ]
     },
     "execution_count": 21,
     "metadata": {},
     "output_type": "execute_result"
    }
   ],
   "source": [
    "mu, sigma = 102, 107 # mean and standard deviation\n",
    "s = np.random.lognormal(mu, sigma, 1000)\n",
    "s"
   ]
  },
  {
   "cell_type": "code",
   "execution_count": 20,
   "metadata": {},
   "outputs": [
    {
     "name": "stdout",
     "output_type": "stream",
     "text": [
      "<scipy.stats._distn_infrastructure.rv_frozen object at 0x000001DE56D8FC50>\n"
     ]
    }
   ],
   "source": [
    "stddev = 102\n",
    "mean = 107\n",
    "dist=lognorm([stddev],loc=mean)\n",
    "print(dist)"
   ]
  },
  {
   "cell_type": "code",
   "execution_count": 22,
   "metadata": {},
   "outputs": [
    {
     "data": {
      "text/plain": [
       "array([  5.        ,   5.93293293,   6.86586587,   7.7987988 ,\n",
       "         8.73173173,   9.66466466,  10.5975976 ,  11.53053053,\n",
       "        12.46346346,  13.3963964 ,  14.32932933,  15.26226226,\n",
       "        16.1951952 ,  17.12812813,  18.06106106,  18.99399399,\n",
       "        19.92692693,  20.85985986,  21.79279279,  22.72572573,\n",
       "        23.65865866,  24.59159159,  25.52452452,  26.45745746,\n",
       "        27.39039039,  28.32332332,  29.25625626,  30.18918919,\n",
       "        31.12212212,  32.05505506,  32.98798799,  33.92092092,\n",
       "        34.85385385,  35.78678679,  36.71971972,  37.65265265,\n",
       "        38.58558559,  39.51851852,  40.45145145,  41.38438438,\n",
       "        42.31731732,  43.25025025,  44.18318318,  45.11611612,\n",
       "        46.04904905,  46.98198198,  47.91491491,  48.84784785,\n",
       "        49.78078078,  50.71371371,  51.64664665,  52.57957958,\n",
       "        53.51251251,  54.44544545,  55.37837838,  56.31131131,\n",
       "        57.24424424,  58.17717718,  59.11011011,  60.04304304,\n",
       "        60.97597598,  61.90890891,  62.84184184,  63.77477477,\n",
       "        64.70770771,  65.64064064,  66.57357357,  67.50650651,\n",
       "        68.43943944,  69.37237237,  70.30530531,  71.23823824,\n",
       "        72.17117117,  73.1041041 ,  74.03703704,  74.96996997,\n",
       "        75.9029029 ,  76.83583584,  77.76876877,  78.7017017 ,\n",
       "        79.63463463,  80.56756757,  81.5005005 ,  82.43343343,\n",
       "        83.36636637,  84.2992993 ,  85.23223223,  86.16516517,\n",
       "        87.0980981 ,  88.03103103,  88.96396396,  89.8968969 ,\n",
       "        90.82982983,  91.76276276,  92.6956957 ,  93.62862863,\n",
       "        94.56156156,  95.49449449,  96.42742743,  97.36036036,\n",
       "        98.29329329,  99.22622623, 100.15915916, 101.09209209,\n",
       "       102.02502503, 102.95795796, 103.89089089, 104.82382382,\n",
       "       105.75675676, 106.68968969, 107.62262262, 108.55555556,\n",
       "       109.48848849, 110.42142142, 111.35435435, 112.28728729,\n",
       "       113.22022022, 114.15315315, 115.08608609, 116.01901902,\n",
       "       116.95195195, 117.88488488, 118.81781782, 119.75075075,\n",
       "       120.68368368, 121.61661662, 122.54954955, 123.48248248,\n",
       "       124.41541542, 125.34834835, 126.28128128, 127.21421421,\n",
       "       128.14714715, 129.08008008, 130.01301301, 130.94594595,\n",
       "       131.87887888, 132.81181181, 133.74474474, 134.67767768,\n",
       "       135.61061061, 136.54354354, 137.47647648, 138.40940941,\n",
       "       139.34234234, 140.27527528, 141.20820821, 142.14114114,\n",
       "       143.07407407, 144.00700701, 144.93993994, 145.87287287,\n",
       "       146.80580581, 147.73873874, 148.67167167, 149.6046046 ,\n",
       "       150.53753754, 151.47047047, 152.4034034 , 153.33633634,\n",
       "       154.26926927, 155.2022022 , 156.13513514, 157.06806807,\n",
       "       158.001001  , 158.93393393, 159.86686687, 160.7997998 ,\n",
       "       161.73273273, 162.66566567, 163.5985986 , 164.53153153,\n",
       "       165.46446446, 166.3973974 , 167.33033033, 168.26326326,\n",
       "       169.1961962 , 170.12912913, 171.06206206, 171.99499499,\n",
       "       172.92792793, 173.86086086, 174.79379379, 175.72672673,\n",
       "       176.65965966, 177.59259259, 178.52552553, 179.45845846,\n",
       "       180.39139139, 181.32432432, 182.25725726, 183.19019019,\n",
       "       184.12312312, 185.05605606, 185.98898899, 186.92192192,\n",
       "       187.85485485, 188.78778779, 189.72072072, 190.65365365,\n",
       "       191.58658659, 192.51951952, 193.45245245, 194.38538539,\n",
       "       195.31831832, 196.25125125, 197.18418418, 198.11711712,\n",
       "       199.05005005, 199.98298298, 200.91591592, 201.84884885,\n",
       "       202.78178178, 203.71471471, 204.64764765, 205.58058058,\n",
       "       206.51351351, 207.44644645, 208.37937938, 209.31231231,\n",
       "       210.24524525, 211.17817818, 212.11111111, 213.04404404,\n",
       "       213.97697698, 214.90990991, 215.84284284, 216.77577578,\n",
       "       217.70870871, 218.64164164, 219.57457457, 220.50750751,\n",
       "       221.44044044, 222.37337337, 223.30630631, 224.23923924,\n",
       "       225.17217217, 226.10510511, 227.03803804, 227.97097097,\n",
       "       228.9039039 , 229.83683684, 230.76976977, 231.7027027 ,\n",
       "       232.63563564, 233.56856857, 234.5015015 , 235.43443443,\n",
       "       236.36736737, 237.3003003 , 238.23323323, 239.16616617,\n",
       "       240.0990991 , 241.03203203, 241.96496496, 242.8978979 ,\n",
       "       243.83083083, 244.76376376, 245.6966967 , 246.62962963,\n",
       "       247.56256256, 248.4954955 , 249.42842843, 250.36136136,\n",
       "       251.29429429, 252.22722723, 253.16016016, 254.09309309,\n",
       "       255.02602603, 255.95895896, 256.89189189, 257.82482482,\n",
       "       258.75775776, 259.69069069, 260.62362362, 261.55655656,\n",
       "       262.48948949, 263.42242242, 264.35535536, 265.28828829,\n",
       "       266.22122122, 267.15415415, 268.08708709, 269.02002002,\n",
       "       269.95295295, 270.88588589, 271.81881882, 272.75175175,\n",
       "       273.68468468, 274.61761762, 275.55055055, 276.48348348,\n",
       "       277.41641642, 278.34934935, 279.28228228, 280.21521522,\n",
       "       281.14814815, 282.08108108, 283.01401401, 283.94694695,\n",
       "       284.87987988, 285.81281281, 286.74574575, 287.67867868,\n",
       "       288.61161161, 289.54454454, 290.47747748, 291.41041041,\n",
       "       292.34334334, 293.27627628, 294.20920921, 295.14214214,\n",
       "       296.07507508, 297.00800801, 297.94094094, 298.87387387,\n",
       "       299.80680681, 300.73973974, 301.67267267, 302.60560561,\n",
       "       303.53853854, 304.47147147, 305.4044044 , 306.33733734,\n",
       "       307.27027027, 308.2032032 , 309.13613614, 310.06906907,\n",
       "       311.002002  , 311.93493493, 312.86786787, 313.8008008 ,\n",
       "       314.73373373, 315.66666667, 316.5995996 , 317.53253253,\n",
       "       318.46546547, 319.3983984 , 320.33133133, 321.26426426,\n",
       "       322.1971972 , 323.13013013, 324.06306306, 324.995996  ,\n",
       "       325.92892893, 326.86186186, 327.79479479, 328.72772773,\n",
       "       329.66066066, 330.59359359, 331.52652653, 332.45945946,\n",
       "       333.39239239, 334.32532533, 335.25825826, 336.19119119,\n",
       "       337.12412412, 338.05705706, 338.98998999, 339.92292292,\n",
       "       340.85585586, 341.78878879, 342.72172172, 343.65465465,\n",
       "       344.58758759, 345.52052052, 346.45345345, 347.38638639,\n",
       "       348.31931932, 349.25225225, 350.18518519, 351.11811812,\n",
       "       352.05105105, 352.98398398, 353.91691692, 354.84984985,\n",
       "       355.78278278, 356.71571572, 357.64864865, 358.58158158,\n",
       "       359.51451451, 360.44744745, 361.38038038, 362.31331331,\n",
       "       363.24624625, 364.17917918, 365.11211211, 366.04504505,\n",
       "       366.97797798, 367.91091091, 368.84384384, 369.77677678,\n",
       "       370.70970971, 371.64264264, 372.57557558, 373.50850851,\n",
       "       374.44144144, 375.37437437, 376.30730731, 377.24024024,\n",
       "       378.17317317, 379.10610611, 380.03903904, 380.97197197,\n",
       "       381.9049049 , 382.83783784, 383.77077077, 384.7037037 ,\n",
       "       385.63663664, 386.56956957, 387.5025025 , 388.43543544,\n",
       "       389.36836837, 390.3013013 , 391.23423423, 392.16716717,\n",
       "       393.1001001 , 394.03303303, 394.96596597, 395.8988989 ,\n",
       "       396.83183183, 397.76476476, 398.6976977 , 399.63063063,\n",
       "       400.56356356, 401.4964965 , 402.42942943, 403.36236236,\n",
       "       404.2952953 , 405.22822823, 406.16116116, 407.09409409,\n",
       "       408.02702703, 408.95995996, 409.89289289, 410.82582583,\n",
       "       411.75875876, 412.69169169, 413.62462462, 414.55755756,\n",
       "       415.49049049, 416.42342342, 417.35635636, 418.28928929,\n",
       "       419.22222222, 420.15515516, 421.08808809, 422.02102102,\n",
       "       422.95395395, 423.88688689, 424.81981982, 425.75275275,\n",
       "       426.68568569, 427.61861862, 428.55155155, 429.48448448,\n",
       "       430.41741742, 431.35035035, 432.28328328, 433.21621622,\n",
       "       434.14914915, 435.08208208, 436.01501502, 436.94794795,\n",
       "       437.88088088, 438.81381381, 439.74674675, 440.67967968,\n",
       "       441.61261261, 442.54554555, 443.47847848, 444.41141141,\n",
       "       445.34434434, 446.27727728, 447.21021021, 448.14314314,\n",
       "       449.07607608, 450.00900901, 450.94194194, 451.87487487,\n",
       "       452.80780781, 453.74074074, 454.67367367, 455.60660661,\n",
       "       456.53953954, 457.47247247, 458.40540541, 459.33833834,\n",
       "       460.27127127, 461.2042042 , 462.13713714, 463.07007007,\n",
       "       464.003003  , 464.93593594, 465.86886887, 466.8018018 ,\n",
       "       467.73473473, 468.66766767, 469.6006006 , 470.53353353,\n",
       "       471.46646647, 472.3993994 , 473.33233233, 474.26526527,\n",
       "       475.1981982 , 476.13113113, 477.06406406, 477.996997  ,\n",
       "       478.92992993, 479.86286286, 480.7957958 , 481.72872873,\n",
       "       482.66166166, 483.59459459, 484.52752753, 485.46046046,\n",
       "       486.39339339, 487.32632633, 488.25925926, 489.19219219,\n",
       "       490.12512513, 491.05805806, 491.99099099, 492.92392392,\n",
       "       493.85685686, 494.78978979, 495.72272272, 496.65565566,\n",
       "       497.58858859, 498.52152152, 499.45445445, 500.38738739,\n",
       "       501.32032032, 502.25325325, 503.18618619, 504.11911912,\n",
       "       505.05205205, 505.98498498, 506.91791792, 507.85085085,\n",
       "       508.78378378, 509.71671672, 510.64964965, 511.58258258,\n",
       "       512.51551552, 513.44844845, 514.38138138, 515.31431431,\n",
       "       516.24724725, 517.18018018, 518.11311311, 519.04604605,\n",
       "       519.97897898, 520.91191191, 521.84484484, 522.77777778,\n",
       "       523.71071071, 524.64364364, 525.57657658, 526.50950951,\n",
       "       527.44244244, 528.37537538, 529.30830831, 530.24124124,\n",
       "       531.17417417, 532.10710711, 533.04004004, 533.97297297,\n",
       "       534.90590591, 535.83883884, 536.77177177, 537.7047047 ,\n",
       "       538.63763764, 539.57057057, 540.5035035 , 541.43643644,\n",
       "       542.36936937, 543.3023023 , 544.23523524, 545.16816817,\n",
       "       546.1011011 , 547.03403403, 547.96696697, 548.8998999 ,\n",
       "       549.83283283, 550.76576577, 551.6986987 , 552.63163163,\n",
       "       553.56456456, 554.4974975 , 555.43043043, 556.36336336,\n",
       "       557.2962963 , 558.22922923, 559.16216216, 560.0950951 ,\n",
       "       561.02802803, 561.96096096, 562.89389389, 563.82682683,\n",
       "       564.75975976, 565.69269269, 566.62562563, 567.55855856,\n",
       "       568.49149149, 569.42442442, 570.35735736, 571.29029029,\n",
       "       572.22322322, 573.15615616, 574.08908909, 575.02202202,\n",
       "       575.95495495, 576.88788789, 577.82082082, 578.75375375,\n",
       "       579.68668669, 580.61961962, 581.55255255, 582.48548549,\n",
       "       583.41841842, 584.35135135, 585.28428428, 586.21721722,\n",
       "       587.15015015, 588.08308308, 589.01601602, 589.94894895,\n",
       "       590.88188188, 591.81481481, 592.74774775, 593.68068068,\n",
       "       594.61361361, 595.54654655, 596.47947948, 597.41241241,\n",
       "       598.34534535, 599.27827828, 600.21121121, 601.14414414,\n",
       "       602.07707708, 603.01001001, 603.94294294, 604.87587588,\n",
       "       605.80880881, 606.74174174, 607.67467467, 608.60760761,\n",
       "       609.54054054, 610.47347347, 611.40640641, 612.33933934,\n",
       "       613.27227227, 614.20520521, 615.13813814, 616.07107107,\n",
       "       617.004004  , 617.93693694, 618.86986987, 619.8028028 ,\n",
       "       620.73573574, 621.66866867, 622.6016016 , 623.53453453,\n",
       "       624.46746747, 625.4004004 , 626.33333333, 627.26626627,\n",
       "       628.1991992 , 629.13213213, 630.06506507, 630.997998  ,\n",
       "       631.93093093, 632.86386386, 633.7967968 , 634.72972973,\n",
       "       635.66266266, 636.5955956 , 637.52852853, 638.46146146,\n",
       "       639.39439439, 640.32732733, 641.26026026, 642.19319319,\n",
       "       643.12612613, 644.05905906, 644.99199199, 645.92492492,\n",
       "       646.85785786, 647.79079079, 648.72372372, 649.65665666,\n",
       "       650.58958959, 651.52252252, 652.45545546, 653.38838839,\n",
       "       654.32132132, 655.25425425, 656.18718719, 657.12012012,\n",
       "       658.05305305, 658.98598599, 659.91891892, 660.85185185,\n",
       "       661.78478478, 662.71771772, 663.65065065, 664.58358358,\n",
       "       665.51651652, 666.44944945, 667.38238238, 668.31531532,\n",
       "       669.24824825, 670.18118118, 671.11411411, 672.04704705,\n",
       "       672.97997998, 673.91291291, 674.84584585, 675.77877878,\n",
       "       676.71171171, 677.64464464, 678.57757758, 679.51051051,\n",
       "       680.44344344, 681.37637638, 682.30930931, 683.24224224,\n",
       "       684.17517518, 685.10810811, 686.04104104, 686.97397397,\n",
       "       687.90690691, 688.83983984, 689.77277277, 690.70570571,\n",
       "       691.63863864, 692.57157157, 693.5045045 , 694.43743744,\n",
       "       695.37037037, 696.3033033 , 697.23623624, 698.16916917,\n",
       "       699.1021021 , 700.03503504, 700.96796797, 701.9009009 ,\n",
       "       702.83383383, 703.76676677, 704.6996997 , 705.63263263,\n",
       "       706.56556557, 707.4984985 , 708.43143143, 709.36436436,\n",
       "       710.2972973 , 711.23023023, 712.16316316, 713.0960961 ,\n",
       "       714.02902903, 714.96196196, 715.89489489, 716.82782783,\n",
       "       717.76076076, 718.69369369, 719.62662663, 720.55955956,\n",
       "       721.49249249, 722.42542543, 723.35835836, 724.29129129,\n",
       "       725.22422422, 726.15715716, 727.09009009, 728.02302302,\n",
       "       728.95595596, 729.88888889, 730.82182182, 731.75475475,\n",
       "       732.68768769, 733.62062062, 734.55355355, 735.48648649,\n",
       "       736.41941942, 737.35235235, 738.28528529, 739.21821822,\n",
       "       740.15115115, 741.08408408, 742.01701702, 742.94994995,\n",
       "       743.88288288, 744.81581582, 745.74874875, 746.68168168,\n",
       "       747.61461461, 748.54754755, 749.48048048, 750.41341341,\n",
       "       751.34634635, 752.27927928, 753.21221221, 754.14514515,\n",
       "       755.07807808, 756.01101101, 756.94394394, 757.87687688,\n",
       "       758.80980981, 759.74274274, 760.67567568, 761.60860861,\n",
       "       762.54154154, 763.47447447, 764.40740741, 765.34034034,\n",
       "       766.27327327, 767.20620621, 768.13913914, 769.07207207,\n",
       "       770.00500501, 770.93793794, 771.87087087, 772.8038038 ,\n",
       "       773.73673674, 774.66966967, 775.6026026 , 776.53553554,\n",
       "       777.46846847, 778.4014014 , 779.33433433, 780.26726727,\n",
       "       781.2002002 , 782.13313313, 783.06606607, 783.998999  ,\n",
       "       784.93193193, 785.86486486, 786.7977978 , 787.73073073,\n",
       "       788.66366366, 789.5965966 , 790.52952953, 791.46246246,\n",
       "       792.3953954 , 793.32832833, 794.26126126, 795.19419419,\n",
       "       796.12712713, 797.06006006, 797.99299299, 798.92592593,\n",
       "       799.85885886, 800.79179179, 801.72472472, 802.65765766,\n",
       "       803.59059059, 804.52352352, 805.45645646, 806.38938939,\n",
       "       807.32232232, 808.25525526, 809.18818819, 810.12112112,\n",
       "       811.05405405, 811.98698699, 812.91991992, 813.85285285,\n",
       "       814.78578579, 815.71871872, 816.65165165, 817.58458458,\n",
       "       818.51751752, 819.45045045, 820.38338338, 821.31631632,\n",
       "       822.24924925, 823.18218218, 824.11511512, 825.04804805,\n",
       "       825.98098098, 826.91391391, 827.84684685, 828.77977978,\n",
       "       829.71271271, 830.64564565, 831.57857858, 832.51151151,\n",
       "       833.44444444, 834.37737738, 835.31031031, 836.24324324,\n",
       "       837.17617618, 838.10910911, 839.04204204, 839.97497497,\n",
       "       840.90790791, 841.84084084, 842.77377377, 843.70670671,\n",
       "       844.63963964, 845.57257257, 846.50550551, 847.43843844,\n",
       "       848.37137137, 849.3043043 , 850.23723724, 851.17017017,\n",
       "       852.1031031 , 853.03603604, 853.96896897, 854.9019019 ,\n",
       "       855.83483483, 856.76776777, 857.7007007 , 858.63363363,\n",
       "       859.56656657, 860.4994995 , 861.43243243, 862.36536537,\n",
       "       863.2982983 , 864.23123123, 865.16416416, 866.0970971 ,\n",
       "       867.03003003, 867.96296296, 868.8958959 , 869.82882883,\n",
       "       870.76176176, 871.69469469, 872.62762763, 873.56056056,\n",
       "       874.49349349, 875.42642643, 876.35935936, 877.29229229,\n",
       "       878.22522523, 879.15815816, 880.09109109, 881.02402402,\n",
       "       881.95695696, 882.88988989, 883.82282282, 884.75575576,\n",
       "       885.68868869, 886.62162162, 887.55455455, 888.48748749,\n",
       "       889.42042042, 890.35335335, 891.28628629, 892.21921922,\n",
       "       893.15215215, 894.08508509, 895.01801802, 895.95095095,\n",
       "       896.88388388, 897.81681682, 898.74974975, 899.68268268,\n",
       "       900.61561562, 901.54854855, 902.48148148, 903.41441441,\n",
       "       904.34734735, 905.28028028, 906.21321321, 907.14614615,\n",
       "       908.07907908, 909.01201201, 909.94494494, 910.87787788,\n",
       "       911.81081081, 912.74374374, 913.67667668, 914.60960961,\n",
       "       915.54254254, 916.47547548, 917.40840841, 918.34134134,\n",
       "       919.27427427, 920.20720721, 921.14014014, 922.07307307,\n",
       "       923.00600601, 923.93893894, 924.87187187, 925.8048048 ,\n",
       "       926.73773774, 927.67067067, 928.6036036 , 929.53653654,\n",
       "       930.46946947, 931.4024024 , 932.33533534, 933.26826827,\n",
       "       934.2012012 , 935.13413413, 936.06706707, 937.        ])"
      ]
     },
     "execution_count": 22,
     "metadata": {},
     "output_type": "execute_result"
    }
   ],
   "source": []
  },
  {
   "cell_type": "code",
   "execution_count": null,
   "metadata": {},
   "outputs": [],
   "source": []
  }
 ],
 "metadata": {
  "kernelspec": {
   "display_name": "Python 3",
   "language": "python",
   "name": "python3"
  },
  "language_info": {
   "codemirror_mode": {
    "name": "ipython",
    "version": 3
   },
   "file_extension": ".py",
   "mimetype": "text/x-python",
   "name": "python",
   "nbconvert_exporter": "python",
   "pygments_lexer": "ipython3",
   "version": "3.6.5"
  }
 },
 "nbformat": 4,
 "nbformat_minor": 2
}
