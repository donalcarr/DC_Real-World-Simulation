{
 "cells": [
  {
   "cell_type": "markdown",
   "metadata": {},
   "source": [
    " # Insurance call centre simulation - average calls received per hour"
   ]
  },
  {
   "cell_type": "markdown",
   "metadata": {},
   "source": [
    "## Introduction"
   ]
  },
  {
   "cell_type": "markdown",
   "metadata": {},
   "source": [
    "Call centres are an important and significant contributor to economies around the world with 2.7 million agents \n",
    "working in the United States and 2.1 million agents working in Europe, Africa and Middle East. [1] In Ireland alone, over 30,000\n",
    "people are employed in call centres.  [2]\n",
    "\n",
    "For the purposes of this simulation I will focus on an inbound call centre that handles insurance policy queries for customers.\n",
    "\n",
    "A significant amount of research has been carried out on call centre arrival modelling for the schedulling \n",
    "and staffing of operators in call centres. As call centre operators can account for 60-80% of a call centres operating budget\n",
    "it is important that operations can reliably forcast call volumes on a daily/weekly basis. [3]\n",
    "\n",
    "Another reason call volume forecasting is critical to operations is meeting Service Level agreements (SLA). \n",
    "SLA(s) are commonly used for setting out how two parties have agreed that a specific service will be delivered \n",
    "by one party to another party, and the standards or levels to which the service will be delivered. [4]\n",
    "\n",
    "The following SLAs would be directly effected by call volumes:\n",
    "    -  Abandon Rate: usually a percentage of total calls received where the customer abandons (hangs up) the call\n",
    "    -  Average Speed of Answer: usually the percentage of calls answered within an agreed time period i.e. 20 seconds\n",
    "    -  Average Time in Queue - total time callers wait in call queues divided by the total number of \n",
    "       calls answered by agents.\n",
    "    \n",
    "The above SLAs if not met can mean hefty financial penalties if the call centre has been contracted by another party to rendor \n",
    "the service and can be indicator of customer service and call centre efficiency.[5]\n",
    "\n"
   ]
  },
  {
   "cell_type": "markdown",
   "metadata": {},
   "source": [
    "## Previous Studies"
   ]
  },
  {
   "cell_type": "code",
   "execution_count": null,
   "metadata": {},
   "outputs": [],
   "source": [
    "bb"
   ]
  },
  {
   "cell_type": "code",
   "execution_count": null,
   "metadata": {},
   "outputs": [],
   "source": []
  }
 ],
 "metadata": {
  "kernelspec": {
   "display_name": "Python 3",
   "language": "python",
   "name": "python3"
  },
  "language_info": {
   "codemirror_mode": {
    "name": "ipython",
    "version": 3
   },
   "file_extension": ".py",
   "mimetype": "text/x-python",
   "name": "python",
   "nbconvert_exporter": "python",
   "pygments_lexer": "ipython3",
   "version": "3.6.5"
  }
 },
 "nbformat": 4,
 "nbformat_minor": 2
}
